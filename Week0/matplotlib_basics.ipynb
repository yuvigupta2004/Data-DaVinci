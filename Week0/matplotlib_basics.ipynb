{
 "cells": [
  {
   "cell_type": "code",
   "execution_count": null,
   "metadata": {},
   "outputs": [],
   "source": [
    "# Import required libraries\n",
    "import numpy as np\n",
    "import matplotlib.pyplot as plt"
   ]
  },
  {
   "cell_type": "code",
   "execution_count": null,
   "metadata": {},
   "outputs": [],
   "source": [
    "# Data\n",
    "x = [1, 2, 3, 4, 5]\n",
    "y = [2, 4, 6, 8, 10]\n",
    "\n",
    "# Create the plot\n",
    "plt.plot(x, y)\n",
    "\n",
    "# Add labels and title\n",
    "plt.xlabel(\"X-axis\")\n",
    "plt.ylabel(\"Y-axis\")\n",
    "plt.title(\"Simple Line Plot\")\n",
    "\n",
    "# Show the plot\n",
    "plt.show()"
   ]
  },
  {
   "cell_type": "code",
   "execution_count": null,
   "metadata": {},
   "outputs": [],
   "source": [
    "x = [1, 2, 3, 4, 5]\n",
    "y1 = [1, 4, 9, 16, 25]\n",
    "y2 = [1, 2, 3, 4, 5]\n",
    "\n",
    "# Plot multiple lines\n",
    "plt.plot(x, y1, label=\"y = x^2\", color=\"blue\", linestyle=\"--\", marker=\"o\")\n",
    "plt.plot(x, y2, label=\"y = x\", color=\"red\", linestyle=\"-.\", marker=\"s\")\n",
    "\n",
    "# Add labels, legend, and title\n",
    "plt.xlabel(\"X-axis\")\n",
    "plt.ylabel(\"Y-axis\")\n",
    "plt.title(\"Multiple Line Plot\")\n",
    "plt.legend()\n",
    "\n",
    "# Show the plot\n",
    "plt.show()"
   ]
  },
  {
   "cell_type": "code",
   "execution_count": null,
   "metadata": {},
   "outputs": [],
   "source": [
    "# Data\n",
    "x = [1, 2, 3, 4, 5]\n",
    "y = [5, 7, 6, 8, 7]\n",
    "\n",
    "# Create scatter plot\n",
    "plt.scatter(x, y, color=\"green\", marker=\"x\", s=100)\n",
    "\n",
    "# Add labels and title\n",
    "plt.xlabel(\"X-axis\")\n",
    "plt.ylabel(\"Y-axis\")\n",
    "plt.title(\"Scatter Plot\")\n",
    "\n",
    "# Show the plot\n",
    "plt.show()\n"
   ]
  },
  {
   "cell_type": "code",
   "execution_count": null,
   "metadata": {},
   "outputs": [],
   "source": [
    "# Data\n",
    "categories = [\"A\", \"B\", \"C\", \"D\"]\n",
    "values = [10, 20, 15, 25]\n",
    "\n",
    "# Create bar chart\n",
    "plt.bar(categories, values, color=\"purple\")\n",
    "\n",
    "# Add labels and title\n",
    "plt.xlabel(\"Categories\")\n",
    "plt.ylabel(\"Values\")\n",
    "plt.title(\"Bar Chart\")\n",
    "\n",
    "# Show the plot\n",
    "plt.show()"
   ]
  },
  {
   "cell_type": "code",
   "execution_count": null,
   "metadata": {},
   "outputs": [],
   "source": [
    "# Create horizontal bar chart\n",
    "plt.barh(categories, values, color=\"orange\")\n",
    "\n",
    "# Add labels and title\n",
    "plt.xlabel(\"Values\")\n",
    "plt.ylabel(\"Categories\")\n",
    "plt.title(\"Horizontal Bar Chart\")\n",
    "\n",
    "# Show the plot\n",
    "plt.show()"
   ]
  },
  {
   "cell_type": "code",
   "execution_count": null,
   "metadata": {},
   "outputs": [],
   "source": [
    "# Data\n",
    "data = [1, 2, 2, 3, 3, 3, 4, 4, 4, 4, 5, 5]\n",
    "\n",
    "# Create histogram\n",
    "plt.hist(data, bins=5, color=\"blue\", edgecolor=\"black\")\n",
    "\n",
    "# Add labels and title\n",
    "plt.xlabel(\"Bins\")\n",
    "plt.ylabel(\"Frequency\")\n",
    "plt.title(\"Histogram\")\n",
    "\n",
    "# Show the plot\n",
    "plt.show()"
   ]
  },
  {
   "cell_type": "code",
   "execution_count": null,
   "metadata": {},
   "outputs": [],
   "source": [
    "# Data\n",
    "labels = [\"Python\", \"Java\", \"C++\", \"JavaScript\"]\n",
    "sizes = [40, 30, 20, 10]\n",
    "colors = [\"gold\", \"lightblue\", \"lightgreen\", \"pink\"]\n",
    "explode = (0.1, 0, 0, 0)  # Highlight the first slice\n",
    "\n",
    "# Create pie chart\n",
    "plt.pie(sizes, labels=labels, colors=colors, explode=explode, autopct=\"%1.1f%%\", shadow=True)\n",
    "\n",
    "# Add title\n",
    "plt.title(\"Programming Language Popularity\")\n",
    "\n",
    "# Show the plot\n",
    "plt.show()"
   ]
  },
  {
   "cell_type": "code",
   "execution_count": null,
   "metadata": {},
   "outputs": [],
   "source": [
    "x = [1, 2, 3, 4, 5]\n",
    "y = [2, 4, 6, 8, 10]\n",
    "\n",
    "# Create the plot\n",
    "plt.plot(x, y, color=\"red\", linewidth=2, linestyle=\"--\", marker=\"o\", markersize=8)\n",
    "\n",
    "# Add grid, labels, and title\n",
    "plt.grid(True, linestyle=\"--\", alpha=0.5)\n",
    "plt.xlabel(\"X-axis\")\n",
    "plt.ylabel(\"Y-axis\")\n",
    "plt.title(\"Customized Plot\")\n",
    "\n",
    "# Show the plot\n",
    "plt.show()"
   ]
  },
  {
   "cell_type": "code",
   "execution_count": null,
   "metadata": {},
   "outputs": [],
   "source": [
    "# Data\n",
    "x = [1, 2, 3, 4, 5]\n",
    "y1 = [1, 4, 9, 16, 25]\n",
    "y2 = [2, 4, 6, 8, 10]\n",
    "\n",
    "# Create subplots\n",
    "plt.figure(figsize=(10, 5))\n",
    "\n",
    "plt.subplot(1, 2, 1)  # 1 row, 2 columns, 1st plot\n",
    "plt.plot(x, y1, color=\"blue\")\n",
    "plt.title(\"Plot 1\")\n",
    "\n",
    "plt.subplot(1, 2, 2)  # 1 row, 2 columns, 2nd plot\n",
    "plt.plot(x, y2, color=\"green\")\n",
    "plt.title(\"Plot 2\")\n",
    "\n",
    "# Show the plots\n",
    "plt.tight_layout()\n",
    "plt.show()"
   ]
  },
  {
   "cell_type": "code",
   "execution_count": null,
   "metadata": {},
   "outputs": [],
   "source": [
    "# Data\n",
    "x = [1, 2, 3, 4, 5]\n",
    "y = [2, 4, 6, 8, 10]\n",
    "\n",
    "# Create plot\n",
    "plt.plot(x, y)\n",
    "plt.title(\"Save Plot Example\")\n",
    "\n",
    "# Save the plot\n",
    "plt.savefig(\"plot_example.png\")\n",
    "\n",
    "# Show the plot\n",
    "plt.show()"
   ]
  },
  {
   "cell_type": "markdown",
   "metadata": {},
   "source": [
    "### Some assignment problems"
   ]
  },
  {
   "cell_type": "code",
   "execution_count": null,
   "metadata": {},
   "outputs": [],
   "source": [
    "# Assignment 1\n",
    "'''\n",
    "Create a numpy array of length 1000 which resembles a normal distribution with mean 0 and standard deviation 1.\n",
    "Create 2 subplots both histograms with 20 bins side by side, one which has a beta (a=2, b=5) distribution, the other which has the normal distribution.\n",
    "'''"
   ]
  },
  {
   "cell_type": "code",
   "execution_count": null,
   "metadata": {},
   "outputs": [],
   "source": [
    "# TODO"
   ]
  },
  {
   "cell_type": "code",
   "execution_count": null,
   "metadata": {},
   "outputs": [],
   "source": [
    "# Assignment 2\n",
    "'''\n",
    "Generate a NumPy array of 1000 random values drawn from a normal distribution with mean 0 and std. dev 1\n",
    "Plot a histogram of the data with 20 bins.\n",
    "Add vertical lines to indicate the mean of the data, the 25th percentile and the 75th percentile.\n",
    "Annotate the plot with labels for the mean, 25th percentile, and 75th percentile.\n",
    "Customize the visualization (light pink colour scheme, titles, labels, legend).\n",
    "'''"
   ]
  },
  {
   "cell_type": "code",
   "execution_count": null,
   "metadata": {},
   "outputs": [],
   "source": [
    "# TODO"
   ]
  }
 ],
 "metadata": {
  "kernelspec": {
   "display_name": ".venv",
   "language": "python",
   "name": "python3"
  },
  "language_info": {
   "codemirror_mode": {
    "name": "ipython",
    "version": 3
   },
   "file_extension": ".py",
   "mimetype": "text/x-python",
   "name": "python",
   "nbconvert_exporter": "python",
   "pygments_lexer": "ipython3",
   "version": "3.12.3"
  }
 },
 "nbformat": 4,
 "nbformat_minor": 2
}
