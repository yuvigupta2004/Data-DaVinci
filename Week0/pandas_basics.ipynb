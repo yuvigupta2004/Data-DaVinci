{
 "cells": [
  {
   "cell_type": "code",
   "execution_count": 1,
   "metadata": {},
   "outputs": [],
   "source": [
    "# Importing necessary libraries\n",
    "import numpy as np\n",
    "import matplotlib.pyplot as plt\n",
    "import pandas as pd"
   ]
  },
  {
   "cell_type": "code",
   "execution_count": 2,
   "metadata": {},
   "outputs": [
    {
     "name": "stdout",
     "output_type": "stream",
     "text": [
      "a    10\n",
      "b    20\n",
      "c    30\n",
      "d    40\n",
      "e    50\n",
      "dtype: int64\n"
     ]
    }
   ],
   "source": [
    "# Create a Series\n",
    "data = pd.Series([10, 20, 30, 40, 50], index=['a', 'b', 'c', 'd', 'e'])\n",
    "print(data)"
   ]
  },
  {
   "cell_type": "code",
   "execution_count": 3,
   "metadata": {},
   "outputs": [
    {
     "name": "stdout",
     "output_type": "stream",
     "text": [
      "      Name  Age         City\n",
      "0    Alice   25     New York\n",
      "1      Bob   30  Los Angeles\n",
      "2  Charlie   35      Chicago\n"
     ]
    }
   ],
   "source": [
    "# Create a DataFrame\n",
    "data = {\n",
    "    \"Name\": [\"Alice\", \"Bob\", \"Charlie\"],\n",
    "    \"Age\": [25, 30, 35],\n",
    "    \"City\": [\"New York\", \"Los Angeles\", \"Chicago\"]\n",
    "}\n",
    "df = pd.DataFrame(data)\n",
    "print(df)"
   ]
  },
  {
   "cell_type": "code",
   "execution_count": null,
   "metadata": {},
   "outputs": [
    {
     "name": "stdout",
     "output_type": "stream",
     "text": [
      "      Name   Age      City\n",
      "0  Charlie  47.0  San Jose\n",
      "1    Diana  43.0  New York\n",
      "2   Hannah  21.0   Chicago\n",
      "3      NaN  43.0   Houston\n",
      "4    Fiona  40.0   Houston\n"
     ]
    }
   ],
   "source": [
    "df = pd.read_csv(\"example.csv\")  \n",
    "print(df.head())  # Display the first 5 rows"
   ]
  },
  {
   "cell_type": "code",
   "execution_count": 5,
   "metadata": {},
   "outputs": [],
   "source": [
    "df.to_csv(\"output.csv\", index=False)"
   ]
  },
  {
   "cell_type": "code",
   "execution_count": 6,
   "metadata": {},
   "outputs": [
    {
     "name": "stdout",
     "output_type": "stream",
     "text": [
      "0     Charlie\n",
      "1       Diana\n",
      "2      Hannah\n",
      "3         NaN\n",
      "4       Fiona\n",
      "5      Edward\n",
      "6         NaN\n",
      "7         Ivy\n",
      "8        Jack\n",
      "9      Edward\n",
      "10        Bob\n",
      "11     George\n",
      "Name: Name, dtype: object\n",
      "Name       Diana\n",
      "Age         43.0\n",
      "City    New York\n",
      "Name: 1, dtype: object\n",
      "Name     Charlie\n",
      "Age         47.0\n",
      "City    San Jose\n",
      "Name: 0, dtype: object\n"
     ]
    }
   ],
   "source": [
    "# Access a column\n",
    "print(df[\"Name\"])\n",
    "\n",
    "# Access a row by index\n",
    "print(df.iloc[1])  # Second row\n",
    "\n",
    "# Access a row by label\n",
    "print(df.loc[0])  # First row"
   ]
  },
  {
   "cell_type": "code",
   "execution_count": 7,
   "metadata": {},
   "outputs": [
    {
     "name": "stdout",
     "output_type": "stream",
     "text": [
      "      Name   Age         City\n",
      "0  Charlie  47.0     San Jose\n",
      "1    Diana  43.0     New York\n",
      "3      NaN  43.0      Houston\n",
      "4    Fiona  40.0      Houston\n",
      "6      NaN  38.0  Los Angeles\n"
     ]
    }
   ],
   "source": [
    "# Filter rows where Age > 25\n",
    "filtered_df = df[df[\"Age\"] > 25]\n",
    "print(filtered_df)"
   ]
  },
  {
   "cell_type": "code",
   "execution_count": 8,
   "metadata": {},
   "outputs": [],
   "source": [
    "# Add a new column\n",
    "df[\"Salary\"] = [50000, 60000, 70000, 55000, 65000, 75000, 52000, 62000, 72000, 58000, 68000, 78000]"
   ]
  },
  {
   "cell_type": "code",
   "execution_count": 9,
   "metadata": {},
   "outputs": [
    {
     "name": "stdout",
     "output_type": "stream",
     "text": [
      "             Age        Salary\n",
      "count  10.000000     12.000000\n",
      "mean   32.200000  63750.000000\n",
      "std    10.942273   9096.702699\n",
      "min    18.000000  50000.000000\n",
      "25%    23.250000  57250.000000\n",
      "50%    31.500000  63500.000000\n",
      "75%    42.250000  70500.000000\n",
      "max    47.000000  78000.000000\n",
      "<class 'pandas.core.frame.DataFrame'>\n",
      "RangeIndex: 12 entries, 0 to 11\n",
      "Data columns (total 4 columns):\n",
      " #   Column  Non-Null Count  Dtype  \n",
      "---  ------  --------------  -----  \n",
      " 0   Name    10 non-null     object \n",
      " 1   Age     10 non-null     float64\n",
      " 2   City    12 non-null     object \n",
      " 3   Salary  12 non-null     int64  \n",
      "dtypes: float64(1), int64(1), object(2)\n",
      "memory usage: 516.0+ bytes\n",
      "None\n"
     ]
    }
   ],
   "source": [
    "print(df.describe())  # Summary statistics\n",
    "print(df.info())      # DataFrame information"
   ]
  },
  {
   "cell_type": "code",
   "execution_count": 10,
   "metadata": {},
   "outputs": [
    {
     "name": "stdout",
     "output_type": "stream",
     "text": [
      "       Name   Age         City  Salary\n",
      "0   Charlie  47.0     San Jose   50000\n",
      "1     Diana  43.0     New York   60000\n",
      "3       NaN  43.0      Houston   55000\n",
      "4     Fiona  40.0      Houston   65000\n",
      "6       NaN  38.0  Los Angeles   52000\n",
      "8      Jack  25.0     New York   72000\n",
      "11   George  24.0      Chicago   78000\n",
      "7       Ivy  23.0     New York   62000\n",
      "2    Hannah  21.0      Chicago   70000\n",
      "9    Edward  18.0       Dallas   58000\n",
      "5    Edward   NaN       Dallas   75000\n",
      "10      Bob   NaN  Los Angeles   68000\n"
     ]
    }
   ],
   "source": [
    "# Sort by Age\n",
    "df_sorted = df.sort_values(by=\"Age\", ascending=False)\n",
    "print(df_sorted)"
   ]
  },
  {
   "cell_type": "code",
   "execution_count": 11,
   "metadata": {},
   "outputs": [
    {
     "name": "stdout",
     "output_type": "stream",
     "text": [
      "City\n",
      "Chicago        22.500000\n",
      "Dallas         18.000000\n",
      "Houston        41.500000\n",
      "Los Angeles    38.000000\n",
      "New York       30.333333\n",
      "San Jose       47.000000\n",
      "Name: Age, dtype: float64\n"
     ]
    }
   ],
   "source": [
    "# Group by a column and calculate the mean\n",
    "grouped = df.groupby(\"City\")[\"Age\"].mean()\n",
    "print(grouped)"
   ]
  },
  {
   "cell_type": "code",
   "execution_count": 12,
   "metadata": {},
   "outputs": [
    {
     "name": "stdout",
     "output_type": "stream",
     "text": [
      "       Name   Age         City  Salary\n",
      "0   Charlie  47.0     San Jose   50000\n",
      "1     Diana  43.0     New York   60000\n",
      "2    Hannah  21.0      Chicago   70000\n",
      "3       NaN  43.0      Houston   55000\n",
      "4     Fiona  40.0      Houston   65000\n",
      "5    Edward  32.2       Dallas   75000\n",
      "6       NaN  38.0  Los Angeles   52000\n",
      "7       Ivy  23.0     New York   62000\n",
      "8      Jack  25.0     New York   72000\n",
      "9    Edward  18.0       Dallas   58000\n",
      "10      Bob  32.2  Los Angeles   68000\n",
      "11   George  24.0      Chicago   78000\n",
      "\n",
      "       Name   Age  Salary\n",
      "0   Charlie  47.0   50000\n",
      "1     Diana  43.0   60000\n",
      "2    Hannah  21.0   70000\n",
      "3       NaN  43.0   55000\n",
      "4     Fiona  40.0   65000\n",
      "5    Edward  32.2   75000\n",
      "6       NaN  38.0   52000\n",
      "7       Ivy  23.0   62000\n",
      "8      Jack  25.0   72000\n",
      "9    Edward  18.0   58000\n",
      "10      Bob  32.2   68000\n",
      "11   George  24.0   78000\n",
      "\n",
      "       Name   Age  Salary\n",
      "0   Charlie  47.0   50000\n",
      "1     Diana  43.0   60000\n",
      "2    Hannah  21.0   70000\n",
      "4     Fiona  40.0   65000\n",
      "5    Edward  32.2   75000\n",
      "7       Ivy  23.0   62000\n",
      "8      Jack  25.0   72000\n",
      "9    Edward  18.0   58000\n",
      "10      Bob  32.2   68000\n",
      "11   George  24.0   78000\n"
     ]
    }
   ],
   "source": [
    "# Fill missing values\n",
    "df[\"Age\"] = df[\"Age\"].fillna(df[\"Age\"].mean())\n",
    "print(df)\n",
    "print(\"\")\n",
    "\n",
    "# Drop a column\n",
    "df = df.drop(columns=[\"City\"])\n",
    "print(df)\n",
    "print(\"\")\n",
    "\n",
    "# Drop rows with missing values\n",
    "df = df.dropna()\n",
    "print(df)"
   ]
  },
  {
   "cell_type": "code",
   "execution_count": 13,
   "metadata": {},
   "outputs": [
    {
     "name": "stdout",
     "output_type": "stream",
     "text": [
      "   A  B\n",
      "0  1  3\n",
      "1  2  4\n",
      "0  5  7\n",
      "1  6  8\n"
     ]
    }
   ],
   "source": [
    "df1 = pd.DataFrame({\"A\": [1, 2], \"B\": [3, 4]})\n",
    "df2 = pd.DataFrame({\"A\": [5, 6], \"B\": [7, 8]})\n",
    "result = pd.concat([df1, df2])\n",
    "print(result)"
   ]
  },
  {
   "cell_type": "code",
   "execution_count": 14,
   "metadata": {},
   "outputs": [
    {
     "name": "stdout",
     "output_type": "stream",
     "text": [
      "   ID   Name  Age\n",
      "0   1  Alice   25\n",
      "1   2    Bob   30\n"
     ]
    }
   ],
   "source": [
    "df1 = pd.DataFrame({\"ID\": [1, 2], \"Name\": [\"Alice\", \"Bob\"]})\n",
    "df2 = pd.DataFrame({\"ID\": [1, 2], \"Age\": [25, 30]})\n",
    "merged = pd.merge(df1, df2, on=\"ID\")\n",
    "print(merged)"
   ]
  },
  {
   "cell_type": "code",
   "execution_count": 15,
   "metadata": {},
   "outputs": [
    {
     "data": {
      "image/png": "[encoded data removed]",
      "text/plain": [
       "<Figure size 640x480 with 1 Axes>"
      ]
     },
     "metadata": {},
     "output_type": "display_data"
    }
   ],
   "source": [
    "# Plot data\n",
    "df[\"Age\"].plot(kind=\"bar\", title=\"Age Distribution\", color=\"skyblue\")\n",
    "plt.show()"
   ]
  },
  {
   "cell_type": "markdown",
   "metadata": {},
   "source": [
    "### Some assignment problems"
   ]
  },
  {
   "cell_type": "code",
   "execution_count": null,
   "metadata": {},
   "outputs": [],
   "source": [
    "# Assignment 1\n",
    "'''\n",
    "Import videogamesales.csv and perform the following actions on it\n",
    "Add a column of 'global_sales' showing the total sales of all the different regions to the data frame and sort (highest first) and print the DataFrame according to it.\n",
    "Display a plot of the total number of copies sold of each genre globally.\n",
    "Filter out only the games containing 'Grand Theft Auto' in their name and display the following as a DataFrame:\n",
    "a. their name\n",
    "b. the platform they were released on\n",
    "c. the year they were released in\n",
    "d. the sum of sales in only Europe and Japan\n",
    "Display a pie chart of the total sales of all Grand Theft Auto games combined in North America, Europe, Japan, and other sales.\n",
    "'''"
   ]
  },
  {
   "cell_type": "code",
   "execution_count": null,
   "metadata": {},
   "outputs": [],
   "source": [
    "# TODO"
   ]
  }
 ],
 "metadata": {
  "kernelspec": {
   "display_name": ".venv",
   "language": "python",
   "name": "python3"
  },
  "language_info": {
   "codemirror_mode": {
    "name": "ipython",
    "version": 3
   },
   "file_extension": ".py",
   "mimetype": "text/x-python",
   "name": "python",
   "nbconvert_exporter": "python",
   "pygments_lexer": "ipython3",
   "version": "3.12.3"
  }
 },
 "nbformat": 4,
 "nbformat_minor": 2
}
