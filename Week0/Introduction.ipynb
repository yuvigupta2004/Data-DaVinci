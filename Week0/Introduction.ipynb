{
    "cells": [
     {
      "cell_type": "markdown",
      "metadata": {},
      "source": [
       "# Introduction to NumPy and Pandas "
      ]
     },
     {
      "cell_type": "markdown",
      "metadata": {},
      "source": [
       "## Introduction to NumPy\n",
       "\n",
       "* most fundamental third-party package for scientific computing in Python \n",
       "* multidimensional **array** data structures\n",
       "* associated functions and methods to manipulate them. \n",
       "* Other third-party packages, including **pandas**, use NumPy arrays as backends for more specialized data structures\n",
       "\n",
       "\n",
       "### Comparison to Python\n",
       "\n",
       "* While Python comes with several container types (`list`,`tuple`,`dict`), \n",
       "* NumPy's arrays are implemented closer to the hardware, and are therefore more **efficient** than the built-in types.\n",
       "* This is particularly true for large data, for which NumPy scales much better than Python's built-in data structures.\n",
       "* NumPy arrays also retain a suite of associated functions and methods that allow for efficient *array-oriented* computing."
      ]
     },
     {
      "cell_type": "markdown",
      "metadata": {},
      "source": [
       "## Import Convention\n",
       "\n",
       "* By convention numpy is imported"
      ]
     },
     {
      "cell_type": "code",
      "execution_count": null,
      "metadata": {
       "collapsed": true
      },
      "outputs": [],
      "source": [
       "import numpy as np"
      ]
     },
     {
      "cell_type": "markdown",
      "metadata": {},
      "source": [
       "## NumPy Arrays and Indexing"
      ]
     },
     {
      "cell_type": "markdown",
      "metadata": {},
      "source": [
       "* You can index an array in the same way you can index Python lists using **slice notation**"
      ]
     },
     {
      "cell_type": "code",
      "execution_count": null,
      "metadata": {
       "collapsed": true
      },
      "outputs": [],
      "source": [
       "lst = list(range(1000))\n",
       "arr = np.arange(1000)"
      ]
     },
     {
      "cell_type": "markdown",
      "metadata": {},
      "source": [
       "Here's what the array looks like"
      ]
     },
     {
      "cell_type": "code",
      "execution_count": null,
      "metadata": {
       "collapsed": true
      },
      "outputs": [],
      "source": [
       "arr[:10]"
      ]
     },
     {
      "cell_type": "code",
      "execution_count": null,
      "metadata": {
       "collapsed": true
      },
      "outputs": [],
      "source": [
       "arr[10:20]"
      ]
     },
     {
      "cell_type": "code",
      "execution_count": null,
      "metadata": {
       "collapsed": true
      },
      "outputs": [],
      "source": [
       "arr[10:20:2]"
      ]
     },
     {
      "cell_type": "code",
      "execution_count": null,
      "metadata": {
       "collapsed": true
      },
      "outputs": [],
      "source": [
       "type(arr)"
      ]
     },
     {
      "cell_type": "code",
      "execution_count": null,
      "metadata": {
       "collapsed": true
      },
      "outputs": [],
      "source": [
       "%timeit [i ** 2 for i in lst]"
      ]
     },
     {
      "cell_type": "code",
      "execution_count": null,
      "metadata": {
       "collapsed": true
      },
      "outputs": [],
      "source": [
       "%timeit arr ** 2"
      ]
     },
     {
      "cell_type": "markdown",
      "metadata": {},
      "source": [
       "We can index arrays in the same ways as lists"
      ]
     },
     {
      "cell_type": "code",
      "execution_count": null,
      "metadata": {
       "collapsed": true
      },
      "outputs": [],
      "source": [
       "arr[5:10]"
      ]
     },
     {
      "cell_type": "code",
      "execution_count": null,
      "metadata": {
       "collapsed": true
      },
      "outputs": [],
      "source": [
       "arr[-1]"
      ]
     },
     {
      "cell_type": "markdown",
      "metadata": {},
      "source": [
       "### Arrays vs Lists"
      ]
     },
     {
      "cell_type": "markdown",
      "metadata": {},
      "source": [
       "* arrays are **homogeneously typed** \n",
       "  * all elements of an array must be of the same type.  \n",
       "  * we see why when we think about the memory layout\n",
       "* lists can contain elements of arbitrary type"
      ]
     },
     {
      "cell_type": "code",
      "execution_count": null,
      "metadata": {
       "collapsed": true
      },
      "outputs": [],
      "source": [
       "['a', 2, (1, 3)]"
      ]
     },
     {
      "cell_type": "code",
      "execution_count": null,
      "metadata": {
       "collapsed": true
      },
      "outputs": [],
      "source": [
       "lst[0] = 'some other type'"
      ]
     },
     {
      "cell_type": "code",
      "execution_count": null,
      "metadata": {
       "collapsed": true
      },
      "outputs": [],
      "source": [
       "lst[:3]"
      ]
     },
     {
      "cell_type": "markdown",
      "metadata": {},
      "source": [
       "* We can't do this with an array"
      ]
     },
     {
      "cell_type": "code",
      "execution_count": null,
      "metadata": {
       "collapsed": true
      },
      "outputs": [],
      "source": [
       "arr[0] = 'some other type'"
      ]
     },
     {
      "cell_type": "markdown",
      "metadata": {},
      "source": [
       "* The data type is contained in the `dtype` attribute"
      ]
     },
     {
      "cell_type": "code",
      "execution_count": null,
      "metadata": {
       "collapsed": true
      },
      "outputs": [],
      "source": [
       "arr.dtype"
      ]
     },
     {
      "cell_type": "markdown",
      "metadata": {},
      "source": [
       "* The dtype is fixed\n",
       "* Other types will be cast to this type"
      ]
     },
     {
      "cell_type": "code",
      "execution_count": null,
      "metadata": {
       "collapsed": true
      },
      "outputs": [],
      "source": [
       "arr[0] = 1.234"
      ]
     },
     {
      "cell_type": "code",
      "execution_count": null,
      "metadata": {
       "collapsed": true
      },
      "outputs": [],
      "source": [
       "arr[:10]"
      ]
     },
     {
      "cell_type": "markdown",
      "metadata": {},
      "source": [
       "### What is an Array"
      ]
     },
     {
      "cell_type": "markdown",
      "metadata": {},
      "source": [
       "* Sometimes it's useful to peak under the hood to fix ideas\n",
       "* A block of memory with some extra information on how to intepret its contents"
      ]
     },
     {
      "cell_type": "code",
      "execution_count": null,
      "metadata": {
       "collapsed": true
      },
      "outputs": [],
      "source": [
       "from IPython.display import Image\n",
       "Image(\"https://docs.scipy.org/doc/numpy/_images/threefundamental.png\")"
      ]
     },
     {
      "cell_type": "markdown",
      "metadata": {},
      "source": [
       "### Array Creation"
      ]
     },
     {
      "cell_type": "code",
      "execution_count": null,
      "metadata": {
       "collapsed": true
      },
      "outputs": [],
      "source": [
       "np.zeros(5, dtype=float)"
      ]
     },
     {
      "cell_type": "code",
      "execution_count": null,
      "metadata": {
       "collapsed": true
      },
      "outputs": [],
      "source": [
       "np.zeros(5, dtype=int)"
      ]
     },
     {
      "cell_type": "code",
      "execution_count": null,
      "metadata": {
       "collapsed": true
      },
      "outputs": [],
      "source": [
       "np.zeros(5, dtype=complex)"
      ]
     },
     {
      "cell_type": "code",
      "execution_count": null,
      "metadata": {
       "collapsed": true
      },
      "outputs": [],
      "source": [
       "np.ones(5, dtype=float)"
      ]
     },
     {
      "cell_type": "markdown",
      "metadata": {},
      "source": [
       "* We have seen how the `arange` function generates an array for a range of integers.\n",
       "* `linspace` and `logspace` functions to create linearly and logarithmically-spaced **grids** respectively, with a fixed number of points and including both ends of the specified interval:"
      ]
     },
     {
      "cell_type": "code",
      "execution_count": null,
      "metadata": {
       "collapsed": true
      },
      "outputs": [],
      "source": [
       "np.linspace(0, 1, num=5)"
      ]
     },
     {
      "cell_type": "code",
      "execution_count": null,
      "metadata": {
       "collapsed": true
      },
      "outputs": [],
      "source": [
       "np.logspace(1, 4, num=4)"
      ]
     },
     {
      "cell_type": "markdown",
      "metadata": {},
      "source": [
       "### Random Number Generation"
      ]
     },
     {
      "cell_type": "markdown",
      "metadata": {},
      "source": [
       "Finally, it is often useful to create arrays with random numbers that follow a specific **distribution**.  The `np.random` module contains a number of functions that can be used to this effect, for example this will produce an array of 5 random samples taken from a **standard normal** distribution (0 mean and variance 1) $ X \\sim N(0, 1) $:\n",
       "\n",
       "$$f(x \\mid \\mu=0, \\sigma=1) = \\sqrt{\\frac{1}{2\\pi \\sigma^2}} \\exp\\left\\{ -\\frac{x^2}{2\\sigma^2} \\right\\}$$ "
      ]
     },
     {
      "cell_type": "code",
      "execution_count": null,
      "metadata": {
       "collapsed": true
      },
      "outputs": [],
      "source": [
       "np.random.randn(5)"
      ]
     },
     {
      "cell_type": "markdown",
      "metadata": {},
      "source": [
       "$X \\sim N(9, 3)$"
      ]
     },
     {
      "cell_type": "code",
      "execution_count": null,
      "metadata": {
       "collapsed": true
      },
      "outputs": [],
      "source": [
       "norm10 = np.random.normal(loc=9, scale=3, size=10)"
      ]
     },
     {
      "cell_type": "markdown",
      "metadata": {},
      "source": [
       "## Exercise: Random numbers\n",
       "\n",
       "Generate a NumPy array of 1000 random numbers sampled from a Poisson distribution, with parameter `lam=5`. What is the modal value in the sample?"
      ]
     },
     {
      "cell_type": "code",
      "execution_count": null,
      "metadata": {
       "collapsed": true
      },
      "outputs": [],
      "source": [
       "# %load solutions/random_number.py\n",
       "import numpy as np\n",
       "\n",
       "y = np.random.poisson(lam=5, size=1000)\n",
       "bins = np.bincount(y)\n",
       "bins.argmax()\n"
      ]
     },
     {
      "cell_type": "markdown",
      "metadata": {},
      "source": [
       "## Index Arrays"
      ]
     },
     {
      "cell_type": "markdown",
      "metadata": {},
      "source": [
       "* Above we showed how to index with numbers and **slices**\n",
       "* NumPy indexing is much more powerful than Python indexing\n",
       "* You can index with other arrays\n",
       "  * Boolean arrays\n",
       "  * Integer arrays"
      ]
     },
     {
      "cell_type": "markdown",
      "metadata": {},
      "source": [
       "Consider for example that in the array `norm10` we want to replace all values above 9 with the value 0.  We can do so by first finding the *mask* that indicates where this condition is `True` or `False`:"
      ]
     },
     {
      "cell_type": "markdown",
      "metadata": {},
      "source": [
       "### Boolean Indexing"
      ]
     },
     {
      "cell_type": "code",
      "execution_count": null,
      "metadata": {
       "collapsed": true
      },
      "outputs": [],
      "source": [
       "mask = norm10 > 9\n",
       "mask"
      ]
     },
     {
      "cell_type": "code",
      "execution_count": null,
      "metadata": {
       "collapsed": true
      },
      "outputs": [],
      "source": [
       "norm10[mask]"
      ]
     },
     {
      "cell_type": "markdown",
      "metadata": {},
      "source": [
       "### Integer Indexing"
      ]
     },
     {
      "cell_type": "markdown",
      "metadata": {},
      "source": [
       "* Likewise you can index with integer arrays"
      ]
     },
     {
      "cell_type": "code",
      "execution_count": null,
      "metadata": {
       "collapsed": true
      },
      "outputs": [],
      "source": [
       "norm10[[1, 4, 6]]"
      ]
     },
     {
      "cell_type": "markdown",
      "metadata": {},
      "source": [
       "### Asssignment"
      ]
     },
     {
      "cell_type": "markdown",
      "metadata": {},
      "source": [
       "* This form of indexing is known as **fancy-indexing**\n",
       "* You can use fancy-indexing for assignment\n",
       "  * This is particularly useful for assignment given some condition"
      ]
     },
     {
      "cell_type": "code",
      "execution_count": null,
      "metadata": {
       "collapsed": true
      },
      "outputs": [],
      "source": [
       "norm10[norm10 > 9] = 0"
      ]
     },
     {
      "cell_type": "code",
      "execution_count": null,
      "metadata": {
       "collapsed": true
      },
      "outputs": [],
      "source": [
       "norm10"
      ]
     },
     {
      "cell_type": "code",
      "execution_count": null,
      "metadata": {
       "collapsed": true
      },
      "outputs": [],
      "source": [
       "norm10[[1, 4, 7]] = 10"
      ]
     },
     {
      "cell_type": "code",
      "execution_count": null,
      "metadata": {
       "collapsed": true
      },
      "outputs": [],
      "source": [
       "norm10"
      ]
     },
     {
      "cell_type": "markdown",
      "metadata": {},
      "source": [
       "### Copies vs Views\n",
       "\n",
       "* This is a common **gotcha** for people new to NumPy\n",
       "* While lvalue fancy-indexing in the case of assignment does not copy\n",
       "  * Just `__setitem__`\n",
       "* rvalue fancy-indexing produces a copy not a view\n",
       "  * `__getitem__` followed by `__setitem__`"
      ]
     },
     {
      "cell_type": "markdown",
      "metadata": {},
      "source": [
       "* When we use slice notation to look at part of an array, it produces a **view**\n",
       "* That is, it points to the same memory of the original array"
      ]
     },
     {
      "cell_type": "code",
      "execution_count": null,
      "metadata": {
       "collapsed": true
      },
      "outputs": [],
      "source": [
       "x = np.arange(10)"
      ]
     },
     {
      "cell_type": "code",
      "execution_count": null,
      "metadata": {
       "collapsed": true
      },
      "outputs": [],
      "source": [
       "x"
      ]
     },
     {
      "cell_type": "code",
      "execution_count": null,
      "metadata": {
       "collapsed": true
      },
      "outputs": [],
      "source": [
       "y = x[::2]\n",
       "y"
      ]
     },
     {
      "cell_type": "code",
      "execution_count": null,
      "metadata": {
       "collapsed": true
      },
      "outputs": [],
      "source": [
       "y[3] = 100\n",
       "y"
      ]
     },
     {
      "cell_type": "code",
      "execution_count": null,
      "metadata": {
       "collapsed": true
      },
      "outputs": [],
      "source": [
       "x"
      ]
     },
     {
      "cell_type": "markdown",
      "metadata": {},
      "source": [
       "* This, however, produces a **copy**\n",
       "* Operating on the copy will not affect the original array"
      ]
     },
     {
      "cell_type": "code",
      "execution_count": null,
      "metadata": {
       "collapsed": true
      },
      "outputs": [],
      "source": [
       "a = norm10[[0, 1, 5]]"
      ]
     },
     {
      "cell_type": "code",
      "execution_count": null,
      "metadata": {
       "collapsed": true
      },
      "outputs": [],
      "source": [
       "a"
      ]
     },
     {
      "cell_type": "code",
      "execution_count": null,
      "metadata": {
       "collapsed": true
      },
      "outputs": [],
      "source": [
       "a[:] = -10"
      ]
     },
     {
      "cell_type": "code",
      "execution_count": null,
      "metadata": {
       "collapsed": true
      },
      "outputs": [],
      "source": [
       "a"
      ]
     },
     {
      "cell_type": "code",
      "execution_count": null,
      "metadata": {
       "collapsed": true
      },
      "outputs": [],
      "source": [
       "norm10"
      ]
     },
     {
      "cell_type": "markdown",
      "metadata": {},
      "source": [
       "### Exercise\n",
       "\n",
       "Create an array `[0, 1, 2, 3, 4, 5, 6, 7, 8, 9]` without typing the values by hand. Assign 100 to elements 2 to 5 (zero-index). Print the array.\n",
       "\n",
       "\n",
       "Create the same array as in step one above. Create an array from a slice of elements 2 to 5. Assign 100 to the slice. *Hint* try `[:]` to address all of the *elements* of an array. Print the original array and the slice."
      ]
     },
     {
      "cell_type": "code",
      "execution_count": null,
      "metadata": {
       "collapsed": true
      },
      "outputs": [],
      "source": [
       "# [Solution here]"
      ]
     },
     {
      "cell_type": "code",
      "execution_count": null,
      "metadata": {
       "collapsed": true
      },
      "outputs": [],
      "source": [
       "%load solutions/copies_vs_views.py"
      ]
     },
     {
      "cell_type": "markdown",
      "metadata": {},
      "source": [
       "## Multidimensional Arrays"
      ]
     },
     {
      "cell_type": "markdown",
      "metadata": {},
      "source": [
       "* NumPy can create arrays of aribtrary dimensions, and all the methods illustrated in the previous section work with more than one dimension. \n",
       "* For example, a list of lists can be used to initialize a two dimensional array:"
      ]
     },
     {
      "cell_type": "code",
      "execution_count": null,
      "metadata": {
       "collapsed": true
      },
      "outputs": [],
      "source": [
       "samples_list = [[632, 1638, 569, 115], [433,1130,754,555]]\n",
       "samples_array = np.array(samples_list)\n",
       "samples_array.shape"
      ]
     },
     {
      "cell_type": "code",
      "execution_count": null,
      "metadata": {
       "collapsed": true
      },
      "outputs": [],
      "source": [
       "print(samples_array)"
      ]
     },
     {
      "cell_type": "markdown",
      "metadata": {},
      "source": [
       "With two-dimensional arrays we start seeing the convenience of NumPy data structures: while a nested list can be indexed across dimensions using consecutive `[ ]` operators, multidimensional arrays support a more natural indexing syntax with a single set of brackets and a set of comma-separated indices:"
      ]
     },
     {
      "cell_type": "code",
      "execution_count": null,
      "metadata": {
       "collapsed": true
      },
      "outputs": [],
      "source": [
       "samples_list[0][1]"
      ]
     },
     {
      "cell_type": "code",
      "execution_count": null,
      "metadata": {
       "collapsed": true
      },
      "outputs": [],
      "source": [
       "samples_array[0,1]"
      ]
     },
     {
      "cell_type": "markdown",
      "metadata": {},
      "source": [
       "Most of the array creation functions listed above can be passed multidimensional shapes. For example:"
      ]
     },
     {
      "cell_type": "code",
      "execution_count": null,
      "metadata": {
       "collapsed": true
      },
      "outputs": [],
      "source": [
       "np.zeros((2,3))"
      ]
     },
     {
      "cell_type": "code",
      "execution_count": null,
      "metadata": {
       "collapsed": true
      },
      "outputs": [],
      "source": [
       "np.random.normal(10, 3, size=(2, 4))"
      ]
     },
     {
      "cell_type": "markdown",
      "metadata": {},
      "source": [
       "In fact, an array can be **reshaped** at any time, as long as the total number of elements is unchanged.  For example, if we want a 2x4 array with numbers increasing from 0, the easiest way to create it is via the array's `reshape` method."
      ]
     },
     {
      "cell_type": "code",
      "execution_count": null,
      "metadata": {
       "collapsed": true
      },
      "outputs": [],
      "source": [
       "arr = np.arange(8).reshape(2,4)\n",
       "arr"
      ]
     },
     {
      "cell_type": "markdown",
      "metadata": {},
      "source": [
       "With multidimensional arrays, you can also use slices, and you can mix and match slices and single indices in the different dimensions (using the same array as above):"
      ]
     },
     {
      "cell_type": "code",
      "execution_count": null,
      "metadata": {
       "collapsed": true
      },
      "outputs": [],
      "source": [
       "arr[1, 2:4]"
      ]
     },
     {
      "cell_type": "code",
      "execution_count": null,
      "metadata": {
       "collapsed": true
      },
      "outputs": [],
      "source": [
       "arr[:, 2]"
      ]
     },
     {
      "cell_type": "markdown",
      "metadata": {},
      "source": [
       "If you only provide one index, then you will get the corresponding row."
      ]
     },
     {
      "cell_type": "code",
      "execution_count": null,
      "metadata": {
       "collapsed": true
      },
      "outputs": [],
      "source": [
       "arr[1]"
      ]
     },
     {
      "cell_type": "markdown",
      "metadata": {},
      "source": [
       "Now that we have seen how to create arrays with more than one dimension, it's a good idea to look at some of the most useful **properties and methods** that arrays have.  The following provide basic information about the size, shape and data in the array:"
      ]
     },
     {
      "cell_type": "code",
      "execution_count": null,
      "metadata": {
       "collapsed": true
      },
      "outputs": [],
      "source": [
       "print('Data type                :', samples_array.dtype)\n",
       "print('Total number of elements :', samples_array.size)\n",
       "print('Number of dimensions     :', samples_array.ndim)\n",
       "print('Shape (dimensionality)   :', samples_array.shape)\n",
       "print('Memory used (in bytes)   :', samples_array.nbytes)"
      ]
     },
     {
      "cell_type": "markdown",
      "metadata": {},
      "source": [
       "Arrays also have many useful methods, some especially useful ones are:"
      ]
     },
     {
      "cell_type": "code",
      "execution_count": null,
      "metadata": {
       "collapsed": true
      },
      "outputs": [],
      "source": [
       "print('Minimum and maximum             :', samples_array.min(), samples_array.max())\n",
       "print('Sum, mean and standard deviation:', samples_array.sum(), samples_array.mean(), samples_array.std())"
      ]
     },
     {
      "cell_type": "markdown",
      "metadata": {},
      "source": [
       "For these methods, the above operations area all computed on all the elements of the array.  But for a multidimensional array, it's possible to do the computation along a single dimension, by passing the `axis` parameter; for example:"
      ]
     },
     {
      "cell_type": "code",
      "execution_count": null,
      "metadata": {
       "collapsed": true
      },
      "outputs": [],
      "source": [
       "samples_array.sum(axis=0)"
      ]
     },
     {
      "cell_type": "code",
      "execution_count": null,
      "metadata": {
       "collapsed": true
      },
      "outputs": [],
      "source": [
       "samples_array.sum(axis=1)"
      ]
     },
     {
      "cell_type": "markdown",
      "metadata": {},
      "source": [
       "* Notice that summing over the rows returned a 1d array above.\n",
       "* If you want to preserve the dimensions use the `keepdims` keyword"
      ]
     },
     {
      "cell_type": "code",
      "execution_count": null,
      "metadata": {
       "collapsed": true
      },
      "outputs": [],
      "source": [
       "samples_array.sum(axis=1, keepdims=True)"
      ]
     },
     {
      "cell_type": "markdown",
      "metadata": {},
      "source": [
       "Another widely used property of arrays is the `.T` attribute, which allows you to access the transpose of the array:"
      ]
     },
     {
      "cell_type": "code",
      "execution_count": null,
      "metadata": {
       "collapsed": true
      },
      "outputs": [],
      "source": [
       "samples_array.T"
      ]
     },
     {
      "cell_type": "markdown",
      "metadata": {},
      "source": [
       "There is a wide variety of methods and properties of arrays.       "
      ]
     },
     {
      "cell_type": "code",
      "execution_count": null,
      "metadata": {
       "collapsed": true
      },
      "outputs": [],
      "source": [
       "[attr for attr in dir(samples_array) if not attr.startswith('__')]"
      ]
     },
     {
      "cell_type": "markdown",
      "metadata": {},
      "source": [
       "### What is a Multi-Dimensional Array"
      ]
     },
     {
      "cell_type": "markdown",
      "metadata": {},
      "source": [
       "* memory is a linear address space\n",
       "* by adding information on `shape` and `strides` we can interpet bytes laid out linearly in memory as a multidimensional object"
      ]
     },
     {
      "cell_type": "code",
      "execution_count": null,
      "metadata": {
       "collapsed": true
      },
      "outputs": [],
      "source": [
       "Image('https://ipython-books.github.io/images/layout.png')"
      ]
     },
     {
      "cell_type": "markdown",
      "metadata": {},
      "source": [
       "### Exercises: Matrix Creation\n",
       "\n",
       "Generate the following structure as a numpy array, without typing the values by hand. Then, create another array containing just the 2nd and 4th rows.\n",
       "\n",
       "        [[1,  6, 11],\n",
       "         [2,  7, 12],\n",
       "         [3,  8, 13],\n",
       "         [4,  9, 14],\n",
       "         [5, 10, 15]]"
      ]
     },
     {
      "cell_type": "code",
      "execution_count": null,
      "metadata": {
       "collapsed": true
      },
      "outputs": [],
      "source": [
       "%load solutions/matrix_creation.py"
      ]
     },
     {
      "cell_type": "markdown",
      "metadata": {},
      "source": [
       "## Array Operations, Methods, and Functions"
      ]
     },
     {
      "cell_type": "code",
      "execution_count": null,
      "metadata": {
       "collapsed": true
      },
      "outputs": [],
      "source": [
       "sample1 = np.array([632, 1638, 569, 115])\n",
       "sample2 = np.array([433,1130,754,555])\n",
       "\n",
       "sample_sum = sample1 + sample2"
      ]
     },
     {
      "cell_type": "code",
      "execution_count": null,
      "metadata": {
       "collapsed": true
      },
      "outputs": [],
      "source": [
       "np.array([632, 1638, 569, 115])"
      ]
     },
     {
      "cell_type": "markdown",
      "metadata": {},
      "source": [
       "This includes the multiplication operator -- it does not perform matrix multiplication, as is the case in Matlab, for example:\n",
       "\n",
       "\n"
      ]
     },
     {
      "cell_type": "code",
      "execution_count": null,
      "metadata": {
       "collapsed": true
      },
      "outputs": [],
      "source": [
       "print('{0} X {1} = {2}'.format(sample1, sample2, sample1 * sample2))"
      ]
     },
     {
      "cell_type": "markdown",
      "metadata": {},
      "source": [
       "In Python 3.5, you can use the `@` operator to get the inner product (or matrix multiplication) (!)"
      ]
     },
     {
      "cell_type": "code",
      "execution_count": null,
      "metadata": {
       "collapsed": true
      },
      "outputs": [],
      "source": [
       "print('{0} . {1} = {2}'.format(sample1, sample2, sample1 @ sample2))"
      ]
     },
     {
      "cell_type": "markdown",
      "metadata": {},
      "source": [
       "* this implies that the dimension of the arrays for each operation must match in size,\n",
       "* numpy will **broadcast** dimensions when possible\n",
       "* For example, suppose that you want to add the number 1.5 to each element arr1\n",
       "* We achieve this by **broadcasting**"
      ]
     },
     {
      "cell_type": "code",
      "execution_count": null,
      "metadata": {
       "collapsed": true
      },
      "outputs": [],
      "source": [
       "sample1 + 1.5"
      ]
     },
     {
      "cell_type": "markdown",
      "metadata": {},
      "source": [
       "In this case, numpy looked at both operands and saw that the first was a one-dimensional array of length 4 and the second was a scalar, considered a zero-dimensional object. The broadcasting rules allow numpy to:\n",
       "\n",
       "* create new array of length 1\n",
       "* extend the array to match the size of the corresponding array\n",
       "\n",
       "So in the above example, the scalar 1.5 is effectively cast to a 1-dimensional array of length 1, then stretched to length 4 to match the dimension of arr1. After this, element-wise addition can proceed as now both operands are one-dimensional arrays of length 4.\n",
       "\n",
       "This broadcasting behavior is powerful, especially because when NumPy broadcasts to create new dimensions or to stretch existing ones, it doesn't actually replicate the data. In the example above the operation is carried as if the 1.5 was a 1-d array with 1.5 in all of its entries, but no actual array was ever created. This saves memory and improves the performance of operations.\n",
       "\n",
       "When broadcasting, NumPy compares the sizes of each dimension in each operand. It starts with the trailing dimensions, working forward and creating dimensions as needed to accomodate the operation. Two dimensions are considered compatible for operation when:\n",
       "\n",
       "* they are equal in size\n",
       "* one is scalar (or size 1)\n",
       "\n",
       "If these conditions are not met, an exception is thrown, indicating that the arrays have incompatible shapes."
      ]
     },
     {
      "cell_type": "code",
      "execution_count": null,
      "metadata": {
       "collapsed": true
      },
      "outputs": [],
      "source": [
       "sample1 + np.array([7,8])"
      ]
     },
     {
      "cell_type": "code",
      "execution_count": null,
      "metadata": {
       "collapsed": true
      },
      "outputs": [],
      "source": [
       "b = np.array([10, 20, 30, 40])\n",
       "\n",
       "bcast_sum = sample1 + b"
      ]
     },
     {
      "cell_type": "code",
      "execution_count": null,
      "metadata": {
       "collapsed": true
      },
      "outputs": [],
      "source": [
       "print('{0}\\n\\n+ {1}\\n{2}\\n{3}'.format(sample1, b, '-'*21, bcast_sum))"
      ]
     },
     {
      "cell_type": "code",
      "execution_count": null,
      "metadata": {
       "collapsed": true
      },
      "outputs": [],
      "source": [
       "c = np.array([-100, 100])\n",
       "sample1 + c"
      ]
     },
     {
      "cell_type": "markdown",
      "metadata": {},
      "source": [
       "Remember that matching begins at the **trailing** dimensions. Here, c would need to have a trailing dimension of 1 for the broadcasting to work. We can augment arrays with dimensions on the fly, by indexing it with a np.newaxis object, which adds an \"empty\" dimension:"
      ]
     },
     {
      "cell_type": "code",
      "execution_count": null,
      "metadata": {
       "collapsed": true
      },
      "outputs": [],
      "source": [
       "cplus = c[:, np.newaxis]\n",
       "cplus"
      ]
     },
     {
      "cell_type": "code",
      "execution_count": null,
      "metadata": {
       "collapsed": true
      },
      "outputs": [],
      "source": [
       "cplus.shape"
      ]
     },
     {
      "cell_type": "code",
      "execution_count": null,
      "metadata": {
       "collapsed": true
      },
      "outputs": [],
      "source": [
       "sample1 + cplus"
      ]
     },
     {
      "cell_type": "code",
      "execution_count": null,
      "metadata": {
       "collapsed": true
      },
      "outputs": [],
      "source": [
       "sample1[:, np.newaxis] + c"
      ]
     },
     {
      "cell_type": "markdown",
      "metadata": {},
      "source": [
       "### Exercises: Array Manipulation"
      ]
     },
     {
      "cell_type": "markdown",
      "metadata": {},
      "source": [
       "Divide each column of the array:\n",
       "\n",
       "```python\n",
       "a = np.arange(25).reshape(5, 5)\n",
       "```\n",
       "\n",
       "elementwise with the array \n",
       "\n",
       "```python\n",
       "b = np.array([1., 5, 10, 15, 20])\n",
       "```"
      ]
     },
     {
      "cell_type": "code",
      "execution_count": null,
      "metadata": {
       "collapsed": true
      },
      "outputs": [],
      "source": [
       "# [Solution here]"
      ]
     },
     {
      "cell_type": "code",
      "execution_count": null,
      "metadata": {
       "collapsed": true
      },
      "outputs": [],
      "source": [
       "%load solutions/broadcasting.py"
      ]
     },
     {
      "cell_type": "markdown",
      "metadata": {},
      "source": [
       "### What Else\n",
       "\n",
       "* NumPy provides *much* more functionality than what we covered here\n",
       "* For example, facilities for **linear algebra**, **FFTs**, **polynomials**, and **unit testing** for floating point"
      ]
     },
     {
      "cell_type": "markdown",
      "metadata": {},
      "source": [
       "## Introduction to Pandas"
      ]
     },
     {
      "cell_type": "markdown",
      "metadata": {},
      "source": [
       "**pandas** is a Python package providing fast, flexible, and expressive data structures designed to work with *relational* or *labeled* data both. It is a fundamental high-level building block for doing practical, real world data analysis in Python. \n",
       "\n",
       "pandas is well suited for:\n",
       "\n",
       "- **Tabular** data with heterogeneously-typed columns, as you might find in an SQL table or Excel spreadsheet\n",
       "- Ordered and unordered (not necessarily fixed-frequency) **time series** data.\n",
       "- Arbitrary **matrix** data with row and column labels\n",
       "\n",
       "Virtually any statistical dataset, labeled or unlabeled, can be converted to a pandas data structure for cleaning, transformation, and analysis.\n",
       "\n",
       "\n",
       "### Key features\n",
       "    \n",
       "- Easy handling of **missing data**\n",
       "- **Size mutability**: columns can be inserted and deleted from DataFrame and higher dimensional objects\n",
       "- Automatic and explicit **data alignment**: objects can be explicitly aligned to a set of labels, or the data can be aligned automatically\n",
       "- Powerful, flexible **group by functionality** to perform split-apply-combine operations on data sets\n",
       "- Intelligent label-based **slicing, fancy indexing, and subsetting** of large data sets\n",
       "- Intuitive **merging and joining** data sets\n",
       "- Flexible **reshaping and pivoting** of data sets\n",
       "- **Hierarchical labeling** of axes\n",
       "- Robust **IO tools** for loading data from flat files, Excel files, databases, and HDF5\n",
       "- **Time series functionality**: date range generation and frequency conversion, moving window statistics, moving window linear regressions, date shifting and lagging, etc."
      ]
     },
     {
      "cell_type": "markdown",
      "metadata": {},
      "source": [
       "### Import Convention"
      ]
     },
     {
      "cell_type": "code",
      "execution_count": null,
      "metadata": {
       "collapsed": true
      },
      "outputs": [],
      "source": [
       "import pandas as pd"
      ]
     },
     {
      "cell_type": "markdown",
      "metadata": {},
      "source": [
       "## Pandas Series"
      ]
     },
     {
      "cell_type": "markdown",
      "metadata": {},
      "source": [
       "* A pandas Series is a generationalization of 1d numpy array\n",
       "* A series has an *index* that labels each element in the vector.\n",
       "* A `Series` can be thought of as an ordered key-value store."
      ]
     },
     {
      "cell_type": "code",
      "execution_count": null,
      "metadata": {
       "collapsed": true
      },
      "outputs": [],
      "source": [
       "counts = pd.Series([632, 1638, 569, 115])\n",
       "counts"
      ]
     },
     {
      "cell_type": "markdown",
      "metadata": {},
      "source": [
       "If an index is not specified, a default sequence of integers is assigned as the index. A NumPy array comprises the values of the `Series`, while the index is a pandas `Index` object."
      ]
     },
     {
      "cell_type": "code",
      "execution_count": null,
      "metadata": {
       "collapsed": true
      },
      "outputs": [],
      "source": [
       "counts.values"
      ]
     },
     {
      "cell_type": "markdown",
      "metadata": {},
      "source": [
       "### Index Object"
      ]
     },
     {
      "cell_type": "markdown",
      "metadata": {},
      "source": [
       "Pandas provides a labeled index to access the rows"
      ]
     },
     {
      "cell_type": "code",
      "execution_count": null,
      "metadata": {
       "collapsed": true
      },
      "outputs": [],
      "source": [
       "counts.index"
      ]
     },
     {
      "cell_type": "markdown",
      "metadata": {},
      "source": [
       "We can assign meaningful labels to the index, if they are available:"
      ]
     },
     {
      "cell_type": "code",
      "execution_count": null,
      "metadata": {
       "collapsed": true
      },
      "outputs": [],
      "source": [
       "bacteria = pd.Series([632, 1638, 569, 115], \n",
       "                     index=['Firmicutes', 'Proteobacteria', \n",
       "                            'Actinobacteria', 'Bacteroidetes'])\n",
       "\n",
       "bacteria"
      ]
     },
     {
      "cell_type": "markdown",
      "metadata": {},
      "source": [
       "NumPy's math functions and other operations can be applied to Series without losing the data structure."
      ]
     },
     {
      "cell_type": "code",
      "execution_count": null,
      "metadata": {
       "collapsed": true
      },
      "outputs": [],
      "source": [
       "np.log(bacteria)"
      ]
     },
     {
      "cell_type": "markdown",
      "metadata": {},
      "source": [
       "* Creation from a dict\n",
       "* Returned in key-sorted order"
      ]
     },
     {
      "cell_type": "code",
      "execution_count": null,
      "metadata": {
       "collapsed": true
      },
      "outputs": [],
      "source": [
       "bacteria_dict = {\n",
       "    'Firmicutes': 632, \n",
       "    'Proteobacteria': 1638,\n",
       "    'Actinobacteria': 569, \n",
       "    'Bacteroidetes': 115\n",
       "}\n",
       "\n",
       "pd.Series(bacteria_dict)"
      ]
     },
     {
      "cell_type": "markdown",
      "metadata": {},
      "source": [
       "## Pandas DataFrames\n",
       "\n",
       "Inevitably, we want to be able to store, view and manipulate data that is *multivariate*, where for every index there are multiple fields or columns of data, often of varying data type.\n",
       "\n",
       "A `DataFrame` is a tabular data structure, encapsulating multiple series like columns in a spreadsheet."
      ]
     },
     {
      "cell_type": "code",
      "execution_count": null,
      "metadata": {
       "collapsed": true
      },
      "outputs": [],
      "source": [
       "data = pd.DataFrame({'value': [632, 1638, 569, 115, 433, 1130, 754, 555],\n",
       "                     'patient': [1, 1, 1, 1, 2, 2, 2, 2],\n",
       "                     'phylum': ['Firmicutes', 'Proteobacteria', 'Actinobacteria', \n",
       "                                'Bacteroidetes', 'Firmicutes', 'Proteobacteria',\n",
       "                                'Actinobacteria', 'Bacteroidetes']})\n",
       "data"
      ]
     },
     {
      "cell_type": "markdown",
      "metadata": {},
      "source": [
       "* We often will want to peak at the first few rows of a DataFrame\n",
       "* You can use `head` to do this"
      ]
     },
     {
      "cell_type": "code",
      "execution_count": null,
      "metadata": {
       "collapsed": true
      },
      "outputs": [],
      "source": [
       "data.head()"
      ]
     },
     {
      "cell_type": "markdown",
      "metadata": {},
      "source": [
       "### Columns as an Index"
      ]
     },
     {
      "cell_type": "markdown",
      "metadata": {},
      "source": [
       "The first axis of a DataFrame also has an index that represent the labeled columns"
      ]
     },
     {
      "cell_type": "code",
      "execution_count": null,
      "metadata": {
       "collapsed": true
      },
      "outputs": [],
      "source": [
       "data.columns"
      ]
     },
     {
      "cell_type": "markdown",
      "metadata": {},
      "source": [
       "## Reading and Writing Files"
      ]
     },
     {
      "cell_type": "markdown",
      "metadata": {},
      "source": [
       "* Pandas provides sophisticated I/O functionality\n",
       "* `read_csv` is a highly optimized csv reader"
      ]
     },
     {
      "cell_type": "code",
      "execution_count": null,
      "metadata": {
       "collapsed": true
      },
      "outputs": [],
      "source": [
       "vessels = pd.read_csv(\"../data/AIS/vessel_information.csv\")\n",
       "vessels.head()"
      ]
     },
     {
      "cell_type": "markdown",
      "metadata": {},
      "source": [
       "### Exercises"
      ]
     },
     {
      "cell_type": "markdown",
      "metadata": {},
      "source": [
       "* Read a single file `../data/NationalFoodSurvey/NFS_1974.csv`"
      ]
     },
     {
      "cell_type": "code",
      "execution_count": null,
      "metadata": {
       "collapsed": true
      },
      "outputs": [],
      "source": [
       "%load solutions/read_nfs_1974.py"
      ]
     },
     {
      "cell_type": "markdown",
      "metadata": {},
      "source": [
       "---"
      ]
     }
    ],
    "metadata": {
     "anaconda-cloud": {},
     "kernelspec": {
      "display_name": "Python 3",
      "language": "python",
      "name": "python3"
     },
     "language_info": {
      "codemirror_mode": {
       "name": "ipython",
       "version": 3
      },
      "file_extension": ".py",
      "mimetype": "text/x-python",
      "name": "python",
      "nbconvert_exporter": "python",
      "pygments_lexer": "ipython3",
      "version": "3.6.1"
     },
     "toc": {
      "colors": {
       "hover_highlight": "#DAA520",
       "running_highlight": "#FF0000",
       "selected_highlight": "#FFD700"
      },
      "moveMenuLeft": true,
      "nav_menu": {
       "height": "228px",
       "width": "252px"
      },
      "navigate_menu": true,
      "number_sections": true,
      "sideBar": true,
      "threshold": "2",
      "toc_cell": true,
      "toc_position": {
       "height": "640px",
       "left": "0px",
       "right": "auto",
       "top": "106px",
       "width": "212px"
      },
      "toc_section_display": "block",
      "toc_window_display": true,
      "widenNotebook": false
     },
     "widgets": {
      "state": {},
      "version": "1.1.2"
     }
    },
    "nbformat": 4,
    "nbformat_minor": 1
   }