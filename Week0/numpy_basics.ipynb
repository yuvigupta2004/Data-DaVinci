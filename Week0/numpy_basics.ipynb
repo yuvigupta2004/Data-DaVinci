{
 "cells": [
  {
   "cell_type": "code",
   "execution_count": 1,
   "metadata": {},
   "outputs": [],
   "source": [
    "# Importing the most important library numpy\n",
    "# Numpy is preffered over python lists since most of its implementations are faster (the functions are tied closer with hardware)\n",
    "import numpy as np"
   ]
  },
  {
   "cell_type": "markdown",
   "metadata": {},
   "source": [
    "### Run the following to grasp the basics of numpy"
   ]
  },
  {
   "cell_type": "code",
   "execution_count": 3,
   "metadata": {},
   "outputs": [
    {
     "name": "stdout",
     "output_type": "stream",
     "text": [
      "1D Array: [1 2 3]\n",
      "2D Array:\n",
      " [[1 2 3]\n",
      " [4 5 6]]\n",
      "Zeros Array:\n",
      " [[0. 0. 0.]\n",
      " [0. 0. 0.]]\n",
      "Ones Array:\n",
      " [[1. 1.]\n",
      " [1. 1.]\n",
      " [1. 1.]]\n",
      "Range Array: [0 2 4 6 8]\n",
      "Linspace Array: [0.   0.25 0.5  0.75 1.  ]\n",
      "Random Array:\n",
      " [[0.84440137 0.7613652  0.76101808]\n",
      " [0.20569986 0.10291103 0.42164178]\n",
      " [0.37437294 0.01080611 0.17515295]]\n"
     ]
    }
   ],
   "source": [
    "# 1D array\n",
    "arr1 = np.array([1, 2, 3])\n",
    "print(\"1D Array:\", arr1)\n",
    "\n",
    "# 2D array\n",
    "arr2 = np.array([[1, 2, 3], [4, 5, 6]])\n",
    "print(\"2D Array:\\n\", arr2)\n",
    "\n",
    "# Array of zeros\n",
    "zeros = np.zeros((2, 3))\n",
    "print(\"Zeros Array:\\n\", zeros)\n",
    "\n",
    "# Array of ones\n",
    "ones = np.ones((3, 2))\n",
    "print(\"Ones Array:\\n\", ones)\n",
    "\n",
    "# Array with a range of values\n",
    "range_arr = np.arange(0, 10, 2)\n",
    "print(\"Range Array:\", range_arr)\n",
    "\n",
    "# Array with equally spaced values\n",
    "linspace_arr = np.linspace(0, 1, 5)\n",
    "print(\"Linspace Array:\", linspace_arr)\n",
    "\n",
    "# Random array\n",
    "random_arr = np.random.rand(3, 3)  # Uniform distribution\n",
    "print(\"Random Array:\\n\", random_arr)\n"
   ]
  },
  {
   "cell_type": "code",
   "execution_count": 4,
   "metadata": {},
   "outputs": [
    {
     "name": "stdout",
     "output_type": "stream",
     "text": [
      "Shape: (2, 3)\n",
      "Size: 6\n",
      "Data Type: int64\n",
      "Number of Dimensions: 2\n"
     ]
    }
   ],
   "source": [
    "# In a numpy array, all the elements must be homogenous (of the same data type)\n",
    "arr = np.array([[1, 2, 3], [4, 5, 6]])\n",
    "\n",
    "print(\"Shape:\", arr.shape)  # Dimensions\n",
    "print(\"Size:\", arr.size)  # Total number of elements\n",
    "print(\"Data Type:\", arr.dtype)  # Type of elements\n",
    "print(\"Number of Dimensions:\", arr.ndim)  # Number of dimensions"
   ]
  },
  {
   "cell_type": "code",
   "execution_count": 5,
   "metadata": {},
   "outputs": [
    {
     "name": "stdout",
     "output_type": "stream",
     "text": [
      "Element at [0, 1]: 2\n",
      "First row: [1 2 3]\n",
      "First column: [1 4]\n",
      "Subarray:\n",
      " [[2 3]\n",
      " [5 6]]\n"
     ]
    }
   ],
   "source": [
    "arr = np.array([[1, 2, 3], [4, 5, 6]])\n",
    "\n",
    "# Accessing elements\n",
    "print(\"Element at [0, 1]:\", arr[0, 1])  # Row 0, Column 1\n",
    "\n",
    "# Slicing\n",
    "print(\"First row:\", arr[0, :])  # All columns of the first row\n",
    "print(\"First column:\", arr[:, 0])  # All rows of the first column\n",
    "print(\"Subarray:\\n\", arr[0:2, 1:3])  # Rows 0-1 and Columns 1-2"
   ]
  },
  {
   "cell_type": "code",
   "execution_count": 6,
   "metadata": {},
   "outputs": [
    {
     "name": "stdout",
     "output_type": "stream",
     "text": [
      "Addition: [5 7 9]\n",
      "Multiplication: [ 4 10 18]\n",
      "Division: [4.  2.5 2. ]\n",
      "Multiply by scalar: [2 4 6]\n",
      "Square root: [1.         1.41421356 1.73205081]\n",
      "Exponential: [ 2.71828183  7.3890561  20.08553692]\n"
     ]
    }
   ],
   "source": [
    "arr1 = np.array([1, 2, 3])\n",
    "arr2 = np.array([4, 5, 6])\n",
    "\n",
    "# Element-wise operations\n",
    "print(\"Addition:\", arr1 + arr2)\n",
    "print(\"Multiplication:\", arr1 * arr2)\n",
    "print(\"Division:\", arr2 / arr1)\n",
    "\n",
    "# Broadcasting\n",
    "scalar = 2\n",
    "print(\"Multiply by scalar:\", arr1 * scalar)\n",
    "\n",
    "# Mathematical functions\n",
    "print(\"Square root:\", np.sqrt(arr1))\n",
    "print(\"Exponential:\", np.exp(arr1))"
   ]
  },
  {
   "cell_type": "code",
   "execution_count": 7,
   "metadata": {},
   "outputs": [
    {
     "name": "stdout",
     "output_type": "stream",
     "text": [
      "Reshaped Array:\n",
      " [[1 2]\n",
      " [3 4]\n",
      " [5 6]]\n",
      "Transposed Array:\n",
      " [[1 4]\n",
      " [2 5]\n",
      " [3 6]]\n"
     ]
    }
   ],
   "source": [
    "arr = np.array([[1, 2, 3], [4, 5, 6]])\n",
    "\n",
    "# Reshape\n",
    "reshaped = arr.reshape((3, 2))\n",
    "print(\"Reshaped Array:\\n\", reshaped)\n",
    "\n",
    "# Transpose\n",
    "transposed = arr.T\n",
    "print(\"Transposed Array:\\n\", transposed)"
   ]
  },
  {
   "cell_type": "code",
   "execution_count": 8,
   "metadata": {},
   "outputs": [
    {
     "name": "stdout",
     "output_type": "stream",
     "text": [
      "Stacked Vertically:\n",
      " [[1 2 3]\n",
      " [4 5 6]]\n",
      "Stacked Horizontally: [1 2 3 4 5 6]\n",
      "Split Array: [array([4]), array([5]), array([6])]\n"
     ]
    }
   ],
   "source": [
    "arr1 = np.array([1, 2, 3])\n",
    "arr2 = np.array([4, 5, 6])\n",
    "\n",
    "# Stacking\n",
    "stacked = np.vstack((arr1, arr2))  # Vertical stack\n",
    "print(\"Stacked Vertically:\\n\", stacked)\n",
    "\n",
    "hstacked = np.hstack((arr1, arr2))  # Horizontal stack\n",
    "print(\"Stacked Horizontally:\", hstacked)\n",
    "\n",
    "# Splitting\n",
    "split = np.split(arr2, 3)  # Split into 3 parts\n",
    "print(\"Split Array:\", split)"
   ]
  },
  {
   "cell_type": "code",
   "execution_count": null,
   "metadata": {},
   "outputs": [
    {
     "name": "stdout",
     "output_type": "stream",
     "text": [
      "Masking: [False  True False  True False  True]\n",
      "Even Numbers: [2 4 6]\n",
      "Numbers greater than 3: [4 5 6]\n"
     ]
    }
   ],
   "source": [
    "arr = np.array([1, 2, 3, 4, 5, 6])\n",
    "\n",
    "# Boolean indexing\n",
    "even = arr[arr % 2 == 0]\n",
    "print(\"Even Numbers:\", even)\n",
    "# Masking is a common technique used\n",
    "print(\"Masking:\", arr % 2 == 0)\n",
    "\n",
    "# Filtering\n",
    "filtered = arr[arr > 3]\n",
    "print(\"Numbers greater than 3:\", filtered)"
   ]
  },
  {
   "cell_type": "code",
   "execution_count": 10,
   "metadata": {},
   "outputs": [
    {
     "name": "stdout",
     "output_type": "stream",
     "text": [
      "Sum: 21\n",
      "Mean: 3.5\n",
      "Maximum: 6\n",
      "Minimum: 1\n",
      "Standard Deviation: 1.707825127659933\n"
     ]
    }
   ],
   "source": [
    "arr = np.array([[1, 2, 3], [4, 5, 6]])\n",
    "\n",
    "print(\"Sum:\", np.sum(arr))\n",
    "print(\"Mean:\", np.mean(arr))\n",
    "print(\"Maximum:\", np.max(arr))\n",
    "print(\"Minimum:\", np.min(arr))\n",
    "print(\"Standard Deviation:\", np.std(arr))"
   ]
  },
  {
   "cell_type": "markdown",
   "metadata": {},
   "source": [
    "### Some assignment problems"
   ]
  },
  {
   "cell_type": "code",
   "execution_count": null,
   "metadata": {},
   "outputs": [],
   "source": [
    "# Assignment 1\n",
    "'''\n",
    "Create an array of 18 random elements of shape (3, 6) and add the array [0, 0, 2, 4, 5, 3] to each row.\n",
    "Then reshape it to a (9, 2) array and take its transpose. \n",
    "Find the locations where all elements are greater than the mean of the array and print it\n",
    "'''"
   ]
  },
  {
   "cell_type": "code",
   "execution_count": null,
   "metadata": {},
   "outputs": [],
   "source": [
    "# TODO"
   ]
  },
  {
   "cell_type": "code",
   "execution_count": null,
   "metadata": {},
   "outputs": [],
   "source": [
    "# Assignment 2\n",
    "'''\n",
    "Create an array of length 20 that models a poisson distribution and center it around the mean and normalise it by dividing it by the standard deviation\n",
    "(Centering around some value \"a\" is subtracting \"a\" from each element and normalising is to divide it by some factor)\n",
    "'''"
   ]
  },
  {
   "cell_type": "code",
   "execution_count": null,
   "metadata": {},
   "outputs": [],
   "source": [
    "# TODO\n",
    "# Hint use np.random.poisson"
   ]
  }
 ],
 "metadata": {
  "kernelspec": {
   "display_name": ".venv",
   "language": "python",
   "name": "python3"
  },
  "language_info": {
   "codemirror_mode": {
    "name": "ipython",
    "version": 3
   },
   "file_extension": ".py",
   "mimetype": "text/x-python",
   "name": "python",
   "nbconvert_exporter": "python",
   "pygments_lexer": "ipython3",
   "version": "3.12.3"
  }
 },
 "nbformat": 4,
 "nbformat_minor": 2
}
